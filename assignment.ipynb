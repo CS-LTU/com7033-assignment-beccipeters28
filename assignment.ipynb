{
 "cells": [
  {
   "cell_type": "code",
   "execution_count": null,
   "id": "dbe86a40-0d85-4e6e-9fa5-9481e2492f0a",
   "metadata": {},
   "outputs": [
    {
     "name": "stdout",
     "output_type": "stream",
     "text": [
      " * Serving Flask app '__main__'\n",
      " * Debug mode: off\n"
     ]
    },
    {
     "name": "stderr",
     "output_type": "stream",
     "text": [
      "WARNING: This is a development server. Do not use it in a production deployment. Use a production WSGI server instead.\n",
      " * Running on http://127.0.0.1:5501\n",
      "Press CTRL+C to quit\n",
      "127.0.0.1 - - [21/Nov/2024 15:47:00] \"GET / HTTP/1.1\" 200 -\n",
      "127.0.0.1 - - [21/Nov/2024 15:47:01] \"GET /register HTTP/1.1\" 200 -\n",
      "127.0.0.1 - - [21/Nov/2024 15:47:13] \"POST /register HTTP/1.1\" 302 -\n",
      "127.0.0.1 - - [21/Nov/2024 15:47:13] \"GET /success/b HTTP/1.1\" 200 -\n"
     ]
    },
    {
     "name": "stdout",
     "output_type": "stream",
     "text": [
      "Received: b, b, a@b.com, 1\n",
      "Attempting to add to db\n",
      "User added successfully.\n"
     ]
    },
    {
     "name": "stderr",
     "output_type": "stream",
     "text": [
      "127.0.0.1 - - [21/Nov/2024 15:47:14] \"GET / HTTP/1.1\" 200 -\n",
      "127.0.0.1 - - [21/Nov/2024 15:47:16] \"GET /users HTTP/1.1\" 200 -\n"
     ]
    },
    {
     "name": "stdout",
     "output_type": "stream",
     "text": [
      "[(1, 'b', 'b', 'a@b.com', '2024-11-21 15:47:13')]\n"
     ]
    },
    {
     "name": "stderr",
     "output_type": "stream",
     "text": [
      "127.0.0.1 - - [21/Nov/2024 15:47:18] \"GET /register HTTP/1.1\" 200 -\n",
      "127.0.0.1 - - [21/Nov/2024 15:47:28] \"POST /register HTTP/1.1\" 200 -\n"
     ]
    },
    {
     "name": "stdout",
     "output_type": "stream",
     "text": [
      "Received: b, b, b@c.com, b\n"
     ]
    },
    {
     "name": "stderr",
     "output_type": "stream",
     "text": [
      "127.0.0.1 - - [21/Nov/2024 15:47:38] \"POST /register HTTP/1.1\" 302 -\n",
      "127.0.0.1 - - [21/Nov/2024 15:47:38] \"GET /success/b HTTP/1.1\" 200 -\n"
     ]
    },
    {
     "name": "stdout",
     "output_type": "stream",
     "text": [
      "Received: b, b, b@c.com, 1\n",
      "Attempting to add to db\n",
      "User added successfully.\n"
     ]
    },
    {
     "name": "stderr",
     "output_type": "stream",
     "text": [
      "127.0.0.1 - - [21/Nov/2024 15:47:40] \"GET / HTTP/1.1\" 200 -\n",
      "127.0.0.1 - - [21/Nov/2024 15:47:41] \"GET /users HTTP/1.1\" 200 -\n"
     ]
    },
    {
     "name": "stdout",
     "output_type": "stream",
     "text": [
      "[(1, 'b', 'b', 'a@b.com', '2024-11-21 15:47:13'), (2, 'b', 'b', 'b@c.com', '2024-11-21 15:47:38')]\n"
     ]
    }
   ],
   "source": [
    "from flask import Flask, render_template, request, redirect, url_for, flash\n",
    "import sqlite3\n",
    "from werkzeug.security import generate_password_hash\n",
    "from datetime import datetime\n",
    "import re\n",
    "\n",
    "app = Flask(__name__)\n",
    "\n",
    "app.secret_key = '2de4621b6cfc0f04c7dec6c7a46e0299'\n",
    "\n",
    "# Initialize the SQLite database\n",
    "def init_db():\n",
    "    conn = sqlite3.connect('users.db')\n",
    "    c = conn.cursor()\n",
    "    # Create users table if it doesn't exist\n",
    "    c.execute('''CREATE TABLE IF NOT EXISTS users\n",
    "                 (id INTEGER PRIMARY KEY AUTOINCREMENT,\n",
    "                  first_name TEXT NOT NULL,\n",
    "                  last_name TEXT NOT NULL,\n",
    "                  email TEXT NOT NULL UNIQUE,\n",
    "                  password TEXT NOT NULL,\n",
    "                  password_hint TEXT NOT NULL,\n",
    "                  created_at TEXT NOT NULL)''')\n",
    "    conn.commit()\n",
    "    conn.close()\n",
    "\n",
    "@app.route('/')\n",
    "def home():\n",
    "    return '''\n",
    "    <h1> Patient Database </h1>\n",
    "    <a href=\"register\">Go to registration</a><br>\n",
    "    <a href=\"users\">View users</a><br>\n",
    "    '''\n",
    "\n",
    "# Email validation using regex\n",
    "def is_valid_email(email):\n",
    "    email_regex = r'^[a-zA-Z0-9_.+-]+@[a-zA-Z0-9-]+\\.[a-zA-Z0-9-.]+$'\n",
    "    return re.match(email_regex, email)\n",
    "\n",
    "# Password strength validation\n",
    "def is_password_strong(password):\n",
    "    if len(password) < 8:\n",
    "        return False\n",
    "    if not re.search(r'[A-Z]', password):\n",
    "        return False\n",
    "    if not re.search(r'[a-z]', password):\n",
    "        return False\n",
    "    if not re.search(r'[0-9]', password):\n",
    "        return False\n",
    "    return True\n",
    "\n",
    "# Route to display the registration form\n",
    "@app.route('/register', methods=['GET', 'POST'])\n",
    "def register():\n",
    "    if request.method == 'POST':\n",
    "        # Retrieve form data\n",
    "        first_name = request.form['first_name']\n",
    "        last_name = request.form['last_name']\n",
    "        email = request.form['email']\n",
    "        password = request.form['password']\n",
    "        password_hint = request.form['password_hint']\n",
    "\n",
    "        print(f\"Received: {first_name}, {last_name}, {email}, {password_hint}\")\n",
    "\n",
    "        # Hash the password\n",
    "        # hashed_password = generate_password_hash(password, method='sha256')\n",
    "        hashed_password = generate_password_hash(password, method='pbkdf2:sha256')\n",
    "\n",
    "        # Validate form data\n",
    "        if not first_name or not last_name or not email or not password:\n",
    "            flash('All fields are required.')\n",
    "            print('All fields are required.')\n",
    "            return render_template('register.html')\n",
    "\n",
    "        \n",
    "\n",
    "        # Validate first and last names contain only letters\n",
    "        if not re.match(\"^[A-Za-z]+$\", first_name):\n",
    "            flash('First name should contain only letters.')\n",
    "            print(\"First name should contain only letters.\")\n",
    "            return render_template('register.html')\n",
    "        if not re.match(\"^[A-Za-z]+$\", last_name):\n",
    "            flash('Last name should contain only letters.')\n",
    "            print(\"Last name should contain only letters.\")\n",
    "            return render_template('register.html')\n",
    "\n",
    "        # Validate email format\n",
    "        if not is_valid_email(email):\n",
    "            flash('Invalid email format. Please enter a valid email.')\n",
    "            print('Invalid email format. Please enter a valid email.')\n",
    "            return render_template('register.html')\n",
    "\n",
    "        # Validate password strength\n",
    "        if not is_password_strong(password):\n",
    "            flash('Password must be at least 8 characters long, include at least one uppercase letter, one lowercase letter, and one number.')\n",
    "\n",
    "            return render_template('register.html')\n",
    "\n",
    "        # Get the current timestamp\n",
    "        created_at = datetime.now().strftime('%Y-%m-%d %H:%M:%S')\n",
    "        \n",
    "        # Insert user data into the database\n",
    "        try:\n",
    "            print(\"Attempting to add to db\")\n",
    "            conn = sqlite3.connect('users.db')\n",
    "            c = conn.cursor()\n",
    "            c.execute(\"INSERT INTO users (first_name, last_name, email, password, password_hint, created_at) VALUES (?, ?, ?, ?, ?, ?)\", \n",
    "                      (first_name, last_name, email, hashed_password, password_hint, created_at,))      \n",
    "            conn.commit()\n",
    "            conn.close()\n",
    "\n",
    "            print(\"User added successfully.\")\n",
    "\n",
    "            # Redirect to the success page\n",
    "            return redirect(url_for('success', first_name=first_name))\n",
    "        except sqlite3.IntegrityError:\n",
    "            flash('Email already registered. Please use a different email.')\n",
    "            return render_template('register.html')\n",
    "\n",
    "    return render_template('register.html')\n",
    "\n",
    "# Route to display the success page\n",
    "@app.route('/success/<first_name>')\n",
    "def success(first_name):\n",
    "    return f\"User {first_name} registered successfully!\\n<a href=\\\"/\\\">Go to homepage</a>\"\n",
    "\n",
    "# Route to list all users (excluding passwords)\n",
    "@app.route('/users')\n",
    "def list_users():\n",
    "    conn = sqlite3.connect('users.db')\n",
    "    c = conn.cursor()\n",
    "    c.execute('SELECT id, first_name, last_name, email, created_at FROM users')\n",
    "    users = c.fetchall()\n",
    "    conn.close()\n",
    "    print(users)\n",
    "    return render_template('users.html', users=users)\n",
    "\n",
    "# Route to delete a user by ID\n",
    "@app.route('/delete/<int:user_id>')\n",
    "def delete_user(user_id):\n",
    "    conn = sqlite3.connect('users.db')\n",
    "    c = conn.cursor()\n",
    "    c.execute('DELETE FROM users WHERE id = ?', (user_id,))\n",
    "    conn.commit()\n",
    "    conn.close()\n",
    "    return redirect(url_for('list_users'))\n",
    "\n",
    "\n",
    "# Initialize the database and run the Flask app\n",
    "if __name__ == '__main__':\n",
    "    init_db()\n",
    "    app.run(port=5501, debug=False)  # Disable debug mode"
   ]
  },
  {
   "cell_type": "code",
   "execution_count": null,
   "id": "c61a651a-7a4f-444d-8fa8-40ecd23fb602",
   "metadata": {},
   "outputs": [],
   "source": []
  },
  {
   "cell_type": "code",
   "execution_count": null,
   "id": "63b4d57d-aa16-4b0e-9f1f-7195ed58b91e",
   "metadata": {},
   "outputs": [],
   "source": []
  },
  {
   "cell_type": "code",
   "execution_count": null,
   "id": "4b20b3c4-2af4-4043-a8fe-335955c0c3f9",
   "metadata": {},
   "outputs": [],
   "source": []
  },
  {
   "cell_type": "code",
   "execution_count": null,
   "id": "a9e1336c-a4ca-47e0-a34f-9b1ee5ce2e70",
   "metadata": {},
   "outputs": [],
   "source": []
  },
  {
   "cell_type": "code",
   "execution_count": null,
   "id": "0610bd68-0976-43c7-8f25-d9162179aca8",
   "metadata": {},
   "outputs": [],
   "source": []
  }
 ],
 "metadata": {
  "kernelspec": {
   "display_name": "Python 3 (ipykernel)",
   "language": "python",
   "name": "python3"
  },
  "language_info": {
   "codemirror_mode": {
    "name": "ipython",
    "version": 3
   },
   "file_extension": ".py",
   "mimetype": "text/x-python",
   "name": "python",
   "nbconvert_exporter": "python",
   "pygments_lexer": "ipython3",
   "version": "3.12.7"
  }
 },
 "nbformat": 4,
 "nbformat_minor": 5
}
